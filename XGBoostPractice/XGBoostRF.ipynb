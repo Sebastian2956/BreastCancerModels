{
 "cells": [
  {
   "cell_type": "markdown",
   "id": "d96f083f",
   "metadata": {},
   "source": [
    "XGBoost for Random Forest (Aka Ensemble of Decision Trees)\n",
    "https://machinelearningmastery.com/random-forest-ensembles-with-xgboost/"
   ]
  },
  {
   "cell_type": "code",
   "execution_count": 1,
   "id": "0d3650be",
   "metadata": {},
   "outputs": [
    {
     "name": "stdout",
     "output_type": "stream",
     "text": [
      "Requirement already satisfied: xgboost in c:\\users\\sebas\\anaconda3\\envs\\sebenviron\\lib\\site-packages (1.5.2)Note: you may need to restart the kernel to use updated packages.\n",
      "\n",
      "Requirement already satisfied: scipy in c:\\users\\sebas\\anaconda3\\envs\\sebenviron\\lib\\site-packages (from xgboost) (1.5.2)\n",
      "Requirement already satisfied: numpy in c:\\users\\sebas\\anaconda3\\envs\\sebenviron\\lib\\site-packages (from xgboost) (1.19.2)\n"
     ]
    }
   ],
   "source": [
    "%pip install xgboost"
   ]
  },
  {
   "cell_type": "code",
   "execution_count": 10,
   "id": "d35a0427",
   "metadata": {},
   "outputs": [],
   "source": [
    "from xgboost import XGBRFClassifier"
   ]
  },
  {
   "cell_type": "code",
   "execution_count": 11,
   "id": "8e796e07",
   "metadata": {},
   "outputs": [
    {
     "name": "stdout",
     "output_type": "stream",
     "text": [
      "1.5.2\n"
     ]
    }
   ],
   "source": [
    "print(xgboost.__version__)"
   ]
  },
  {
   "cell_type": "code",
   "execution_count": null,
   "id": "2c179f2f",
   "metadata": {},
   "outputs": [],
   "source": [
    "#n_estimators = number of trees, usually very high like thousands\n",
    "#subsample = sample of training dataset, preferably .8 or .9\n",
    "#colsample_bynode = number of features used at each split point when training\n",
    "#More info on parameters: https://xgboost.readthedocs.io/en/latest/tutorials/rf.html\n",
    "model = XGBRFClassifier(n_estimators=100, subsample=.9, colsample_bynode=.2)"
   ]
  },
  {
   "cell_type": "code",
   "execution_count": null,
   "id": "17a96c68",
   "metadata": {},
   "outputs": [],
   "source": []
  },
  {
   "cell_type": "markdown",
   "id": "4fd5842c",
   "metadata": {},
   "source": [
    "XGBoost Random Forest for Classification"
   ]
  },
  {
   "cell_type": "code",
   "execution_count": 5,
   "id": "4e3546f5",
   "metadata": {},
   "outputs": [
    {
     "name": "stdout",
     "output_type": "stream",
     "text": [
      "(1000, 20) (1000,)\n",
      "Mean Accuracy: 0.894 (0.032)\n"
     ]
    }
   ],
   "source": [
    "#evaluate random forest with repeated stratified k-fld cross-validation (3 repeats and 10 folds)\n",
    "from numpy import mean\n",
    "from numpy import std\n",
    "from sklearn.datasets import make_classification\n",
    "from sklearn.model_selection import cross_val_score\n",
    "from sklearn.model_selection import RepeatedStratifiedKFold\n",
    "from xgboost import XGBRFClassifier\n",
    "\n",
    "#make synthetic data\n",
    "X, y = make_classification(n_samples=1000, n_features=20, n_informative=15, n_redundant=5, random_state=7)\n",
    "print(X.shape, y.shape)\n",
    "\n",
    "#define model\n",
    "model = XGBRFClassifier(n_estimators=100, subsample=.9, colsample_bynode=.2)\n",
    "\n",
    "#define model evaluation procedure\n",
    "cv = RepeatedStratifiedKFold(n_splits=10, n_repeats=3, random_state=1)\n",
    "\n",
    "#evaluate model\n",
    "n_scores = cross_val_score(model, X, y, scoring='accuracy', cv=cv, n_jobs=-1)\n",
    "\n",
    "#report\n",
    "print('Mean Accuracy: %.3f (%.3f)' % (mean(n_scores), std(n_scores)))"
   ]
  },
  {
   "cell_type": "code",
   "execution_count": 6,
   "id": "d1965fb2",
   "metadata": {},
   "outputs": [
    {
     "name": "stderr",
     "output_type": "stream",
     "text": [
      "c:\\Users\\sebas\\anaconda3\\envs\\SebEnviron\\lib\\site-packages\\xgboost\\sklearn.py:1224: UserWarning: The use of label encoder in XGBClassifier is deprecated and will be removed in a future release. To remove this warning, do the following: 1) Pass option use_label_encoder=False when constructing XGBClassifier object; and 2) Encode your labels (y) as integers starting with 0, i.e. 0, 1, 2, ..., [num_class - 1].\n",
      "  warnings.warn(label_encoder_deprecation_msg, UserWarning)\n"
     ]
    },
    {
     "name": "stdout",
     "output_type": "stream",
     "text": [
      "Predicted Class: 1\n"
     ]
    }
   ],
   "source": [
    "#test\n",
    "from numpy import asarray\n",
    "from sklearn.datasets import make_classification\n",
    "from xgboost import XGBRFClassifier\n",
    "\n",
    "#synthetic data\n",
    "X, y = make_classification(n_samples=1000, n_features=20, n_informative=15, n_redundant=5, random_state=7)\n",
    "#define model\n",
    "model = XGBRFClassifier(n_estimators=100, subsample=.9, colsample_bynode=.2)\n",
    "#fit on whole dataset\n",
    "model.fit(X, y)\n",
    "\n",
    "#define a row of data \n",
    "row = [0.2929949,-4.21223056,-1.288332,-2.17849815,-0.64527665,2.58097719,0.28422388,-7.1827928,-1.91211104,2.73729512,0.81395695,3.96973717,-2.66939799,3.34692332,4.19791821,0.99990998,-0.30201875,-4.43170633,-2.82646737,0.44916808]\n",
    "row = asarray([row])\n",
    "\n",
    "#make prediction\n",
    "yhat = model.predict(row)\n",
    "\n",
    "#summarize prediction\n",
    "print('Predicted Class: %d' % yhat[0])\n"
   ]
  }
 ],
 "metadata": {
  "kernelspec": {
   "display_name": "SebEnviron",
   "language": "python",
   "name": "python3"
  },
  "language_info": {
   "codemirror_mode": {
    "name": "ipython",
    "version": 3
   },
   "file_extension": ".py",
   "mimetype": "text/x-python",
   "name": "python",
   "nbconvert_exporter": "python",
   "pygments_lexer": "ipython3",
   "version": "3.6.13"
  }
 },
 "nbformat": 4,
 "nbformat_minor": 5
}
