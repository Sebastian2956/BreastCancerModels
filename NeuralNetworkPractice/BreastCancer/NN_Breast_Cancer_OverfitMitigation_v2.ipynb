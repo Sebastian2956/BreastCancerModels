{
 "cells": [
  {
   "cell_type": "markdown",
   "id": "6916510e",
   "metadata": {},
   "source": [
    "# Breast Cancer Classifier – Overfitting Mitigation (v2)\n",
    "This notebook includes detailed precision, recall, F1-score, and confusion matrix reporting."
   ]
  },
  {
   "cell_type": "code",
   "execution_count": 1,
   "id": "f79e6104",
   "metadata": {},
   "outputs": [],
   "source": [
    "import numpy as np\n",
    "import pandas as pd\n",
    "from sklearn.model_selection import train_test_split, StratifiedKFold\n",
    "from sklearn.preprocessing import StandardScaler\n",
    "from sklearn.metrics import (roc_auc_score, accuracy_score, precision_score, recall_score, f1_score, confusion_matrix, classification_report, precision_recall_curve)\n",
    "from sklearn.utils import resample\n",
    "import tensorflow as tf\n",
    "from tensorflow.keras import Sequential, regularizers\n",
    "from tensorflow.keras.layers import Dense, BatchNormalization, Dropout, Activation\n",
    "from tensorflow.keras.callbacks import EarlyStopping, ReduceLROnPlateau\n",
    "# Custom recall metric\n",
    "recall_metric = tf.keras.metrics.Recall(name='recall')\n"
   ]
  },
  {
   "cell_type": "markdown",
   "id": "7ce9f1e7",
   "metadata": {},
   "source": [
    "## 1. Load & Preprocess Data"
   ]
  },
  {
   "cell_type": "code",
   "execution_count": 2,
   "id": "75323a9b",
   "metadata": {},
   "outputs": [],
   "source": [
    "data = pd.read_csv('Breast_cancer_data.csv')\n",
    "X = data.drop('diagnosis', axis=1).values\n",
    "y = data['diagnosis'].values\n",
    "X_trainval, X_test, y_trainval, y_test = train_test_split(\n",
    "    X, y, stratify=y, test_size=0.2, random_state=42\n",
    ")\n",
    "scaler = StandardScaler()\n",
    "X_trainval = scaler.fit_transform(X_trainval)\n",
    "X_test = scaler.transform(X_test)\n"
   ]
  },
  {
   "cell_type": "markdown",
   "id": "c61101cd",
   "metadata": {},
   "source": [
    "## 2. Stratified K-Fold Cross-Validation & Training"
   ]
  },
  {
   "cell_type": "code",
   "execution_count": 3,
   "id": "2570ee50",
   "metadata": {},
   "outputs": [
    {
     "name": "stderr",
     "output_type": "stream",
     "text": [
      "C:\\Users\\sebas\\AppData\\Local\\Packages\\PythonSoftwareFoundation.Python.3.12_qbz5n2kfra8p0\\LocalCache\\local-packages\\Python312\\site-packages\\keras\\src\\layers\\core\\dense.py:87: UserWarning: Do not pass an `input_shape`/`input_dim` argument to a layer. When using Sequential models, prefer using an `Input(shape)` object as the first layer in the model instead.\n",
      "  super().__init__(activity_regularizer=activity_regularizer, **kwargs)\n"
     ]
    },
    {
     "name": "stdout",
     "output_type": "stream",
     "text": [
      "\u001b[1m3/3\u001b[0m \u001b[32m━━━━━━━━━━━━━━━━━━━━\u001b[0m\u001b[37m\u001b[0m \u001b[1m0s\u001b[0m 56ms/step\n",
      "Fold 1: Precision=0.862, Recall=0.982, F1=0.918\n"
     ]
    },
    {
     "name": "stderr",
     "output_type": "stream",
     "text": [
      "C:\\Users\\sebas\\AppData\\Local\\Packages\\PythonSoftwareFoundation.Python.3.12_qbz5n2kfra8p0\\LocalCache\\local-packages\\Python312\\site-packages\\keras\\src\\layers\\core\\dense.py:87: UserWarning: Do not pass an `input_shape`/`input_dim` argument to a layer. When using Sequential models, prefer using an `Input(shape)` object as the first layer in the model instead.\n",
      "  super().__init__(activity_regularizer=activity_regularizer, **kwargs)\n"
     ]
    },
    {
     "name": "stdout",
     "output_type": "stream",
     "text": [
      "\u001b[1m3/3\u001b[0m \u001b[32m━━━━━━━━━━━━━━━━━━━━\u001b[0m\u001b[37m\u001b[0m \u001b[1m0s\u001b[0m 45ms/step\n",
      "Fold 2: Precision=0.982, Recall=0.982, F1=0.982\n"
     ]
    },
    {
     "name": "stderr",
     "output_type": "stream",
     "text": [
      "C:\\Users\\sebas\\AppData\\Local\\Packages\\PythonSoftwareFoundation.Python.3.12_qbz5n2kfra8p0\\LocalCache\\local-packages\\Python312\\site-packages\\keras\\src\\layers\\core\\dense.py:87: UserWarning: Do not pass an `input_shape`/`input_dim` argument to a layer. When using Sequential models, prefer using an `Input(shape)` object as the first layer in the model instead.\n",
      "  super().__init__(activity_regularizer=activity_regularizer, **kwargs)\n"
     ]
    },
    {
     "name": "stdout",
     "output_type": "stream",
     "text": [
      "WARNING:tensorflow:5 out of the last 7 calls to <function TensorFlowTrainer.make_predict_function.<locals>.one_step_on_data_distributed at 0x00000207669C7420> triggered tf.function retracing. Tracing is expensive and the excessive number of tracings could be due to (1) creating @tf.function repeatedly in a loop, (2) passing tensors with different shapes, (3) passing Python objects instead of tensors. For (1), please define your @tf.function outside of the loop. For (2), @tf.function has reduce_retracing=True option that can avoid unnecessary retracing. For (3), please refer to https://www.tensorflow.org/guide/function#controlling_retracing and https://www.tensorflow.org/api_docs/python/tf/function for  more details.\n",
      "\u001b[1m1/3\u001b[0m \u001b[32m━━━━━━\u001b[0m\u001b[37m━━━━━━━━━━━━━━\u001b[0m \u001b[1m0s\u001b[0m 90ms/stepWARNING:tensorflow:6 out of the last 9 calls to <function TensorFlowTrainer.make_predict_function.<locals>.one_step_on_data_distributed at 0x00000207669C7420> triggered tf.function retracing. Tracing is expensive and the excessive number of tracings could be due to (1) creating @tf.function repeatedly in a loop, (2) passing tensors with different shapes, (3) passing Python objects instead of tensors. For (1), please define your @tf.function outside of the loop. For (2), @tf.function has reduce_retracing=True option that can avoid unnecessary retracing. For (3), please refer to https://www.tensorflow.org/guide/function#controlling_retracing and https://www.tensorflow.org/api_docs/python/tf/function for  more details.\n",
      "\u001b[1m3/3\u001b[0m \u001b[32m━━━━━━━━━━━━━━━━━━━━\u001b[0m\u001b[37m\u001b[0m \u001b[1m0s\u001b[0m 46ms/step\n",
      "Fold 3: Precision=0.948, Recall=0.965, F1=0.957\n"
     ]
    },
    {
     "name": "stderr",
     "output_type": "stream",
     "text": [
      "C:\\Users\\sebas\\AppData\\Local\\Packages\\PythonSoftwareFoundation.Python.3.12_qbz5n2kfra8p0\\LocalCache\\local-packages\\Python312\\site-packages\\keras\\src\\layers\\core\\dense.py:87: UserWarning: Do not pass an `input_shape`/`input_dim` argument to a layer. When using Sequential models, prefer using an `Input(shape)` object as the first layer in the model instead.\n",
      "  super().__init__(activity_regularizer=activity_regularizer, **kwargs)\n"
     ]
    },
    {
     "name": "stdout",
     "output_type": "stream",
     "text": [
      "\u001b[1m3/3\u001b[0m \u001b[32m━━━━━━━━━━━━━━━━━━━━\u001b[0m\u001b[37m\u001b[0m \u001b[1m0s\u001b[0m 47ms/step\n",
      "Fold 4: Precision=0.964, Recall=0.947, F1=0.956\n"
     ]
    },
    {
     "name": "stderr",
     "output_type": "stream",
     "text": [
      "C:\\Users\\sebas\\AppData\\Local\\Packages\\PythonSoftwareFoundation.Python.3.12_qbz5n2kfra8p0\\LocalCache\\local-packages\\Python312\\site-packages\\keras\\src\\layers\\core\\dense.py:87: UserWarning: Do not pass an `input_shape`/`input_dim` argument to a layer. When using Sequential models, prefer using an `Input(shape)` object as the first layer in the model instead.\n",
      "  super().__init__(activity_regularizer=activity_regularizer, **kwargs)\n"
     ]
    },
    {
     "name": "stdout",
     "output_type": "stream",
     "text": [
      "\u001b[1m3/3\u001b[0m \u001b[32m━━━━━━━━━━━━━━━━━━━━\u001b[0m\u001b[37m\u001b[0m \u001b[1m0s\u001b[0m 59ms/step\n",
      "Fold 5: Precision=0.932, Recall=0.965, F1=0.948\n",
      "Avg Precision: 0.9377519136149054\n",
      "Avg Recall: 0.968421052631579\n",
      "Avg F1: 0.9522077481649809\n"
     ]
    }
   ],
   "source": [
    "kf = StratifiedKFold(n_splits=5, shuffle=True, random_state=42)\n",
    "fold_metrics = []\n",
    "for fold, (train_idx, val_idx) in enumerate(kf.split(X_trainval, y_trainval), 1):\n",
    "    # Prepare fold data\n",
    "    X_tr, X_val = X_trainval[train_idx], X_trainval[val_idx]\n",
    "    y_tr, y_val = y_trainval[train_idx], y_trainval[val_idx]\n",
    "    # Oversample malignant twice\n",
    "    df = pd.DataFrame(X_tr)\n",
    "    df['label'] = y_tr\n",
    "    df_maj = df[df.label==0]\n",
    "    df_min = df[df.label==1]\n",
    "    df_min_up = resample(df_min, replace=True, n_samples=len(df_maj)*2, random_state=42)\n",
    "    df_fold = pd.concat([df_maj, df_min_up])\n",
    "    X_tr_up = df_fold.drop('label',axis=1).values\n",
    "    y_tr_up = df_fold['label'].values\n",
    "    # Build model\n",
    "    def build_model(input_dim):\n",
    "        model = Sequential([\n",
    "            Dense(128, activation=None, input_shape=(input_dim,), kernel_regularizer=regularizers.l2(1e-4)),\n",
    "            BatchNormalization(), Activation('relu'), Dropout(0.4),\n",
    "            Dense(64, activation=None, kernel_regularizer=regularizers.l2(1e-4)), BatchNormalization(), Activation('relu'), Dropout(0.3),\n",
    "            Dense(32, activation='relu', kernel_regularizer=regularizers.l2(1e-4)), Dropout(0.2),\n",
    "            Dense(1, activation='sigmoid')\n",
    "        ])\n",
    "        model.compile(\n",
    "            loss=tf.keras.losses.BinaryCrossentropy(),\n",
    "            optimizer=tf.keras.optimizers.Adam(learning_rate=1e-3),\n",
    "            metrics=['accuracy', recall_metric]\n",
    "        )\n",
    "        return model\n",
    "    model = build_model(X_tr_up.shape[1])\n",
    "    # Train\n",
    "    callbacks = [EarlyStopping(monitor='val_loss', patience=5, restore_best_weights=True),\n",
    "                 ReduceLROnPlateau(monitor='val_loss', factor=0.5, patience=3, min_lr=1e-6)]\n",
    "    history = model.fit(X_tr_up, y_tr_up, validation_data=(X_val,y_val), epochs=100, batch_size=32, callbacks=callbacks, verbose=0)\n",
    "    # Evaluate on validation\n",
    "    y_val_pred = (model.predict(X_val).ravel() >= 0.5).astype(int)\n",
    "    prec = precision_score(y_val, y_val_pred)\n",
    "    rec = recall_score(y_val, y_val_pred)\n",
    "    f1 = f1_score(y_val, y_val_pred)\n",
    "    fold_metrics.append((prec, rec, f1))\n",
    "    print(f'Fold {fold}: Precision={prec:.3f}, Recall={rec:.3f}, F1={f1:.3f}')\n",
    "print('Avg Precision:', np.mean([m[0] for m in fold_metrics]))\n",
    "print('Avg Recall:',    np.mean([m[1] for m in fold_metrics]))\n",
    "print('Avg F1:',        np.mean([m[2] for m in fold_metrics]))\n"
   ]
  },
  {
   "cell_type": "markdown",
   "id": "0e63fee8",
   "metadata": {},
   "source": [
    "## 3. Final Training & Detailed Test Evaluation"
   ]
  },
  {
   "cell_type": "code",
   "execution_count": 4,
   "id": "4ce1a676",
   "metadata": {},
   "outputs": [
    {
     "name": "stdout",
     "output_type": "stream",
     "text": [
      "Epoch 1/100\n"
     ]
    },
    {
     "name": "stderr",
     "output_type": "stream",
     "text": [
      "C:\\Users\\sebas\\AppData\\Local\\Packages\\PythonSoftwareFoundation.Python.3.12_qbz5n2kfra8p0\\LocalCache\\local-packages\\Python312\\site-packages\\keras\\src\\layers\\core\\dense.py:87: UserWarning: Do not pass an `input_shape`/`input_dim` argument to a layer. When using Sequential models, prefer using an `Input(shape)` object as the first layer in the model instead.\n",
      "  super().__init__(activity_regularizer=activity_regularizer, **kwargs)\n"
     ]
    },
    {
     "name": "stdout",
     "output_type": "stream",
     "text": [
      "\u001b[1m13/13\u001b[0m \u001b[32m━━━━━━━━━━━━━━━━━━━━\u001b[0m\u001b[37m\u001b[0m \u001b[1m4s\u001b[0m 33ms/step - accuracy: 0.5772 - loss: 0.7413 - recall: 0.8095 - val_accuracy: 0.9804 - val_loss: 0.5281 - val_recall: 0.9804 - learning_rate: 0.0010\n",
      "Epoch 2/100\n",
      "\u001b[1m13/13\u001b[0m \u001b[32m━━━━━━━━━━━━━━━━━━━━\u001b[0m\u001b[37m\u001b[0m \u001b[1m0s\u001b[0m 8ms/step - accuracy: 0.8146 - loss: 0.4530 - recall: 0.9034 - val_accuracy: 0.9804 - val_loss: 0.4311 - val_recall: 0.9804 - learning_rate: 0.0010\n",
      "Epoch 3/100\n",
      "\u001b[1m13/13\u001b[0m \u001b[32m━━━━━━━━━━━━━━━━━━━━\u001b[0m\u001b[37m\u001b[0m \u001b[1m0s\u001b[0m 8ms/step - accuracy: 0.8924 - loss: 0.3164 - recall: 0.9523 - val_accuracy: 0.9804 - val_loss: 0.3566 - val_recall: 0.9804 - learning_rate: 0.0010\n",
      "Epoch 4/100\n",
      "\u001b[1m13/13\u001b[0m \u001b[32m━━━━━━━━━━━━━━━━━━━━\u001b[0m\u001b[37m\u001b[0m \u001b[1m0s\u001b[0m 8ms/step - accuracy: 0.8836 - loss: 0.3215 - recall: 0.9494 - val_accuracy: 0.9804 - val_loss: 0.3134 - val_recall: 0.9804 - learning_rate: 0.0010\n",
      "Epoch 5/100\n",
      "\u001b[1m13/13\u001b[0m \u001b[32m━━━━━━━━━━━━━━━━━━━━\u001b[0m\u001b[37m\u001b[0m \u001b[1m0s\u001b[0m 8ms/step - accuracy: 0.8953 - loss: 0.2795 - recall: 0.9457 - val_accuracy: 0.9902 - val_loss: 0.2737 - val_recall: 0.9902 - learning_rate: 0.0010\n",
      "\u001b[1m4/4\u001b[0m \u001b[32m━━━━━━━━━━━━━━━━━━━━\u001b[0m\u001b[37m\u001b[0m \u001b[1m0s\u001b[0m 34ms/step\n",
      "Test Metrics:\n",
      "Accuracy: 0.9035087719298246\n",
      "Precision: 0.9178082191780822\n",
      "Recall: 0.9305555555555556\n",
      "F1-score: 0.9241379310344827\n",
      "Confusion Matrix:\n",
      " [[36  6]\n",
      " [ 5 67]]\n",
      "Classification Report:\n",
      "               precision    recall  f1-score   support\n",
      "\n",
      "           0       0.88      0.86      0.87        42\n",
      "           1       0.92      0.93      0.92        72\n",
      "\n",
      "    accuracy                           0.90       114\n",
      "   macro avg       0.90      0.89      0.90       114\n",
      "weighted avg       0.90      0.90      0.90       114\n",
      "\n"
     ]
    }
   ],
   "source": [
    "# Retrain model on full training data with 2× oversampling\n",
    "df_full = pd.DataFrame(X_trainval); df_full['label']=y_trainval\n",
    "df_full_maj = df_full[df_full.label==0]; df_full_min = df_full[df_full.label==1]\n",
    "df_full_min_up = resample(df_full_min, replace=True, n_samples=len(df_full_maj)*2, random_state=42)\n",
    "df_full_up = pd.concat([df_full_maj, df_full_min_up])\n",
    "X_full_up = df_full_up.drop('label',axis=1).values; y_full_up = df_full_up['label'].values\n",
    "model = build_model(X_full_up.shape[1])\n",
    "model.fit(X_full_up, y_full_up, validation_split=0.2, epochs=100, batch_size=32, callbacks=callbacks, verbose=1)\n",
    "# Test evaluation\n",
    "y_test_prob = model.predict(X_test).ravel()\n",
    "y_test_pred = (y_test_prob >= 0.5).astype(int)\n",
    "print('Test Metrics:')\n",
    "print('Accuracy:', accuracy_score(y_test, y_test_pred))\n",
    "print('Precision:', precision_score(y_test, y_test_pred))\n",
    "print('Recall:', recall_score(y_test, y_test_pred))\n",
    "print('F1-score:', f1_score(y_test, y_test_pred))\n",
    "print('Confusion Matrix:\\n', confusion_matrix(y_test, y_test_pred))\n",
    "print('Classification Report:\\n', classification_report(y_test, y_test_pred))\n"
   ]
  }
 ],
 "metadata": {
  "kernelspec": {
   "display_name": "Python 3",
   "language": "python",
   "name": "python3"
  },
  "language_info": {
   "codemirror_mode": {
    "name": "ipython",
    "version": 3
   },
   "file_extension": ".py",
   "mimetype": "text/x-python",
   "name": "python",
   "nbconvert_exporter": "python",
   "pygments_lexer": "ipython3",
   "version": "3.12.10"
  }
 },
 "nbformat": 4,
 "nbformat_minor": 5
}
